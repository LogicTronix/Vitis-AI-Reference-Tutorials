{
  "nbformat": 4,
  "nbformat_minor": 0,
  "metadata": {
    "colab": {
      "provenance": [],
      "gpuType": "T4"
    },
    "kernelspec": {
      "name": "python3",
      "display_name": "Python 3"
    },
    "language_info": {
      "name": "python"
    },
    "accelerator": "GPU"
  },
  "cells": [
    {
      "cell_type": "markdown",
      "source": [
        "# ResNet152 Architecture"
      ],
      "metadata": {
        "id": "Aa-YY6K-pU_o"
      }
    },
    {
      "cell_type": "code",
      "execution_count": 1,
      "metadata": {
        "id": "5ie2abPMmfqN"
      },
      "outputs": [],
      "source": [
        "import torch\n",
        "import torch.nn as nn"
      ]
    },
    {
      "cell_type": "code",
      "source": [
        "class block(nn.Module):\n",
        "  # Identity downsample for conv layer for projection shortcut\n",
        "  def __init__(self, in_channels, out_channels, identity_downsample=None, stride=1):\n",
        "    super(block,self).__init__()\n",
        "    self.expansion = 4\n",
        "\n",
        "    self.conv1 = nn.Conv2d(in_channels, out_channels, kernel_size=1, stride=1, padding=0)\n",
        "    self.bn1 = nn.BatchNorm2d(out_channels)\n",
        "    self.conv2 = nn.Conv2d(out_channels, out_channels, kernel_size=3, stride=stride, padding=1)\n",
        "    self.bn2 = nn.BatchNorm2d(out_channels)\n",
        "    self.conv3 = nn.Conv2d(out_channels, out_channels*self.expansion, kernel_size=1, stride=1, padding=0)\n",
        "    self.bn3 = nn.BatchNorm2d(out_channels*self.expansion)\n",
        "\n",
        "    self.relu = nn.ReLU()\n",
        "\n",
        "    self.identity_downsample = identity_downsample\n",
        "\n",
        "  def forward(self, x):\n",
        "    identity = x\n",
        "\n",
        "    x = self.conv1(x)\n",
        "    x = self.bn1(x)\n",
        "    x = self.relu(x)\n",
        "\n",
        "    x = self.conv2(x)\n",
        "    x = self.bn2(x)\n",
        "    x = self.relu(x)\n",
        "\n",
        "    x = self.conv3(x)\n",
        "    x = self.bn3(x)\n",
        "\n",
        "    if self.identity_downsample is not None:\n",
        "      identity = self.identity_downsample(identity)\n",
        "\n",
        "    x += identity\n",
        "    x = self.relu(x)\n",
        "    return x"
      ],
      "metadata": {
        "id": "8TyfLZreoLtD"
      },
      "execution_count": 2,
      "outputs": []
    },
    {
      "cell_type": "code",
      "source": [
        "class ResNet(nn.Module):\n",
        "  def __init__(self, block, layers, image_channels, num_classes):\n",
        "    super(ResNet, self).__init__()\n",
        "    self.in_channels = 64 # Since, in resnet the input channel starts from 64\n",
        "\n",
        "    # For Conv1 (image_channels in start is 3(RGB) --> after conv layer 64)\n",
        "    self.conv1 = nn.Conv2d(image_channels, 64, kernel_size=7, stride=2, padding=3)\n",
        "    self.bn1 = nn.BatchNorm2d(64)\n",
        "    self.relu = nn.ReLU()\n",
        "\n",
        "    # For Maxpool (channel 64 remains constant, spatial dimension decreases in half)\n",
        "    self.maxpool = nn.MaxPool2d(kernel_size=3, stride=2, padding=1)\n",
        "\n",
        "    # ResNet layers (In ResNet152, there are 4 layers where, in each layer the blocks are repeated [3,8,36,3] times)\n",
        "    self.layer1 = self._make_layer(block, layers[0], out_channels=64, stride=1)\n",
        "    self.layer2 = self._make_layer(block, layers[1], out_channels=128, stride=2)\n",
        "    self.layer3 = self._make_layer(block, layers[2], out_channels=256, stride=2)\n",
        "    self.layer4 = self._make_layer(block, layers[3], out_channels=512, stride=2)\n",
        "\n",
        "    # For Avg. Pooling such that the output is 2048x1x1 so Adaptive Pooling applied accordingly\n",
        "    self.avgpool = nn.AdaptiveAvgPool2d((1,1))\n",
        "\n",
        "    # For final fully connected layer\n",
        "    self.fc = nn.Linear(2048*1*1, num_classes)\n",
        "\n",
        "  def forward(self,x):\n",
        "    x = self.conv1(x)\n",
        "    x = self.bn1(x)\n",
        "    x = self.relu(x)\n",
        "    x = self.maxpool(x)\n",
        "\n",
        "    x = self.layer1(x)\n",
        "    x = self.layer2(x)\n",
        "    x = self.layer3(x)\n",
        "    x = self.layer4(x)\n",
        "\n",
        "    x = self.avgpool(x)\n",
        "    x = x.reshape(x.shape[0],-1)\n",
        "    x = self.fc(x)\n",
        "    return x\n",
        "\n",
        "  def _make_layer(self, block, num_residual_blocks, out_channels, stride):\n",
        "    identity_downsample = None\n",
        "    layers = []\n",
        "\n",
        "    if stride!=1 or self.in_channels != out_channels*4 :\n",
        "      identity_downsample = nn.Sequential(nn.Conv2d(self.in_channels, out_channels*4, kernel_size=1,\n",
        "                                                    stride=stride),\n",
        "                                          nn.BatchNorm2d(out_channels*4))\n",
        "\n",
        "    layers.append(block(self.in_channels, out_channels, identity_downsample, stride))\n",
        "    self.in_channels = out_channels*4\n",
        "\n",
        "    for i in range(num_residual_blocks - 1):\n",
        "      layers.append(block(self.in_channels, out_channels))\n",
        "\n",
        "    return nn.Sequential(*layers)"
      ],
      "metadata": {
        "id": "ENK0_Wr0oQU0"
      },
      "execution_count": 3,
      "outputs": []
    },
    {
      "cell_type": "code",
      "source": [
        "def ResNet152(image_channels=3, num_classes=3):\n",
        "  return ResNet(block, [3,8,36,3], image_channels, num_classes)"
      ],
      "metadata": {
        "id": "vxQKlkuFomWk"
      },
      "execution_count": 4,
      "outputs": []
    },
    {
      "cell_type": "code",
      "source": [
        "# Instantiate ResNet101\n",
        "model = ResNet152()"
      ],
      "metadata": {
        "id": "WoOTWrMfouNa"
      },
      "execution_count": 5,
      "outputs": []
    },
    {
      "cell_type": "code",
      "source": [
        "# Specify device\n",
        "device = torch.device(\"cuda\" if torch.cuda.is_available() else \"cpu\")"
      ],
      "metadata": {
        "id": "qDjC-hJYo0Lu"
      },
      "execution_count": 6,
      "outputs": []
    },
    {
      "cell_type": "code",
      "source": [
        "# Model summary to compare params\n",
        "from torchsummary import summary\n",
        "\n",
        "summary(model.to(device), (3,224,224))"
      ],
      "metadata": {
        "colab": {
          "base_uri": "https://localhost:8080/"
        },
        "id": "mm1IS8RBo2Tz",
        "outputId": "84a9241b-2f1f-4b47-dc28-4fa9ccea7b44"
      },
      "execution_count": 7,
      "outputs": [
        {
          "output_type": "stream",
          "name": "stdout",
          "text": [
            "----------------------------------------------------------------\n",
            "        Layer (type)               Output Shape         Param #\n",
            "================================================================\n",
            "            Conv2d-1         [-1, 64, 112, 112]           9,472\n",
            "       BatchNorm2d-2         [-1, 64, 112, 112]             128\n",
            "              ReLU-3         [-1, 64, 112, 112]               0\n",
            "         MaxPool2d-4           [-1, 64, 56, 56]               0\n",
            "            Conv2d-5           [-1, 64, 56, 56]           4,160\n",
            "       BatchNorm2d-6           [-1, 64, 56, 56]             128\n",
            "              ReLU-7           [-1, 64, 56, 56]               0\n",
            "            Conv2d-8           [-1, 64, 56, 56]          36,928\n",
            "       BatchNorm2d-9           [-1, 64, 56, 56]             128\n",
            "             ReLU-10           [-1, 64, 56, 56]               0\n",
            "           Conv2d-11          [-1, 256, 56, 56]          16,640\n",
            "      BatchNorm2d-12          [-1, 256, 56, 56]             512\n",
            "           Conv2d-13          [-1, 256, 56, 56]          16,640\n",
            "      BatchNorm2d-14          [-1, 256, 56, 56]             512\n",
            "             ReLU-15          [-1, 256, 56, 56]               0\n",
            "            block-16          [-1, 256, 56, 56]               0\n",
            "           Conv2d-17           [-1, 64, 56, 56]          16,448\n",
            "      BatchNorm2d-18           [-1, 64, 56, 56]             128\n",
            "             ReLU-19           [-1, 64, 56, 56]               0\n",
            "           Conv2d-20           [-1, 64, 56, 56]          36,928\n",
            "      BatchNorm2d-21           [-1, 64, 56, 56]             128\n",
            "             ReLU-22           [-1, 64, 56, 56]               0\n",
            "           Conv2d-23          [-1, 256, 56, 56]          16,640\n",
            "      BatchNorm2d-24          [-1, 256, 56, 56]             512\n",
            "             ReLU-25          [-1, 256, 56, 56]               0\n",
            "            block-26          [-1, 256, 56, 56]               0\n",
            "           Conv2d-27           [-1, 64, 56, 56]          16,448\n",
            "      BatchNorm2d-28           [-1, 64, 56, 56]             128\n",
            "             ReLU-29           [-1, 64, 56, 56]               0\n",
            "           Conv2d-30           [-1, 64, 56, 56]          36,928\n",
            "      BatchNorm2d-31           [-1, 64, 56, 56]             128\n",
            "             ReLU-32           [-1, 64, 56, 56]               0\n",
            "           Conv2d-33          [-1, 256, 56, 56]          16,640\n",
            "      BatchNorm2d-34          [-1, 256, 56, 56]             512\n",
            "             ReLU-35          [-1, 256, 56, 56]               0\n",
            "            block-36          [-1, 256, 56, 56]               0\n",
            "           Conv2d-37          [-1, 128, 56, 56]          32,896\n",
            "      BatchNorm2d-38          [-1, 128, 56, 56]             256\n",
            "             ReLU-39          [-1, 128, 56, 56]               0\n",
            "           Conv2d-40          [-1, 128, 28, 28]         147,584\n",
            "      BatchNorm2d-41          [-1, 128, 28, 28]             256\n",
            "             ReLU-42          [-1, 128, 28, 28]               0\n",
            "           Conv2d-43          [-1, 512, 28, 28]          66,048\n",
            "      BatchNorm2d-44          [-1, 512, 28, 28]           1,024\n",
            "           Conv2d-45          [-1, 512, 28, 28]         131,584\n",
            "      BatchNorm2d-46          [-1, 512, 28, 28]           1,024\n",
            "             ReLU-47          [-1, 512, 28, 28]               0\n",
            "            block-48          [-1, 512, 28, 28]               0\n",
            "           Conv2d-49          [-1, 128, 28, 28]          65,664\n",
            "      BatchNorm2d-50          [-1, 128, 28, 28]             256\n",
            "             ReLU-51          [-1, 128, 28, 28]               0\n",
            "           Conv2d-52          [-1, 128, 28, 28]         147,584\n",
            "      BatchNorm2d-53          [-1, 128, 28, 28]             256\n",
            "             ReLU-54          [-1, 128, 28, 28]               0\n",
            "           Conv2d-55          [-1, 512, 28, 28]          66,048\n",
            "      BatchNorm2d-56          [-1, 512, 28, 28]           1,024\n",
            "             ReLU-57          [-1, 512, 28, 28]               0\n",
            "            block-58          [-1, 512, 28, 28]               0\n",
            "           Conv2d-59          [-1, 128, 28, 28]          65,664\n",
            "      BatchNorm2d-60          [-1, 128, 28, 28]             256\n",
            "             ReLU-61          [-1, 128, 28, 28]               0\n",
            "           Conv2d-62          [-1, 128, 28, 28]         147,584\n",
            "      BatchNorm2d-63          [-1, 128, 28, 28]             256\n",
            "             ReLU-64          [-1, 128, 28, 28]               0\n",
            "           Conv2d-65          [-1, 512, 28, 28]          66,048\n",
            "      BatchNorm2d-66          [-1, 512, 28, 28]           1,024\n",
            "             ReLU-67          [-1, 512, 28, 28]               0\n",
            "            block-68          [-1, 512, 28, 28]               0\n",
            "           Conv2d-69          [-1, 128, 28, 28]          65,664\n",
            "      BatchNorm2d-70          [-1, 128, 28, 28]             256\n",
            "             ReLU-71          [-1, 128, 28, 28]               0\n",
            "           Conv2d-72          [-1, 128, 28, 28]         147,584\n",
            "      BatchNorm2d-73          [-1, 128, 28, 28]             256\n",
            "             ReLU-74          [-1, 128, 28, 28]               0\n",
            "           Conv2d-75          [-1, 512, 28, 28]          66,048\n",
            "      BatchNorm2d-76          [-1, 512, 28, 28]           1,024\n",
            "             ReLU-77          [-1, 512, 28, 28]               0\n",
            "            block-78          [-1, 512, 28, 28]               0\n",
            "           Conv2d-79          [-1, 128, 28, 28]          65,664\n",
            "      BatchNorm2d-80          [-1, 128, 28, 28]             256\n",
            "             ReLU-81          [-1, 128, 28, 28]               0\n",
            "           Conv2d-82          [-1, 128, 28, 28]         147,584\n",
            "      BatchNorm2d-83          [-1, 128, 28, 28]             256\n",
            "             ReLU-84          [-1, 128, 28, 28]               0\n",
            "           Conv2d-85          [-1, 512, 28, 28]          66,048\n",
            "      BatchNorm2d-86          [-1, 512, 28, 28]           1,024\n",
            "             ReLU-87          [-1, 512, 28, 28]               0\n",
            "            block-88          [-1, 512, 28, 28]               0\n",
            "           Conv2d-89          [-1, 128, 28, 28]          65,664\n",
            "      BatchNorm2d-90          [-1, 128, 28, 28]             256\n",
            "             ReLU-91          [-1, 128, 28, 28]               0\n",
            "           Conv2d-92          [-1, 128, 28, 28]         147,584\n",
            "      BatchNorm2d-93          [-1, 128, 28, 28]             256\n",
            "             ReLU-94          [-1, 128, 28, 28]               0\n",
            "           Conv2d-95          [-1, 512, 28, 28]          66,048\n",
            "      BatchNorm2d-96          [-1, 512, 28, 28]           1,024\n",
            "             ReLU-97          [-1, 512, 28, 28]               0\n",
            "            block-98          [-1, 512, 28, 28]               0\n",
            "           Conv2d-99          [-1, 128, 28, 28]          65,664\n",
            "     BatchNorm2d-100          [-1, 128, 28, 28]             256\n",
            "            ReLU-101          [-1, 128, 28, 28]               0\n",
            "          Conv2d-102          [-1, 128, 28, 28]         147,584\n",
            "     BatchNorm2d-103          [-1, 128, 28, 28]             256\n",
            "            ReLU-104          [-1, 128, 28, 28]               0\n",
            "          Conv2d-105          [-1, 512, 28, 28]          66,048\n",
            "     BatchNorm2d-106          [-1, 512, 28, 28]           1,024\n",
            "            ReLU-107          [-1, 512, 28, 28]               0\n",
            "           block-108          [-1, 512, 28, 28]               0\n",
            "          Conv2d-109          [-1, 128, 28, 28]          65,664\n",
            "     BatchNorm2d-110          [-1, 128, 28, 28]             256\n",
            "            ReLU-111          [-1, 128, 28, 28]               0\n",
            "          Conv2d-112          [-1, 128, 28, 28]         147,584\n",
            "     BatchNorm2d-113          [-1, 128, 28, 28]             256\n",
            "            ReLU-114          [-1, 128, 28, 28]               0\n",
            "          Conv2d-115          [-1, 512, 28, 28]          66,048\n",
            "     BatchNorm2d-116          [-1, 512, 28, 28]           1,024\n",
            "            ReLU-117          [-1, 512, 28, 28]               0\n",
            "           block-118          [-1, 512, 28, 28]               0\n",
            "          Conv2d-119          [-1, 256, 28, 28]         131,328\n",
            "     BatchNorm2d-120          [-1, 256, 28, 28]             512\n",
            "            ReLU-121          [-1, 256, 28, 28]               0\n",
            "          Conv2d-122          [-1, 256, 14, 14]         590,080\n",
            "     BatchNorm2d-123          [-1, 256, 14, 14]             512\n",
            "            ReLU-124          [-1, 256, 14, 14]               0\n",
            "          Conv2d-125         [-1, 1024, 14, 14]         263,168\n",
            "     BatchNorm2d-126         [-1, 1024, 14, 14]           2,048\n",
            "          Conv2d-127         [-1, 1024, 14, 14]         525,312\n",
            "     BatchNorm2d-128         [-1, 1024, 14, 14]           2,048\n",
            "            ReLU-129         [-1, 1024, 14, 14]               0\n",
            "           block-130         [-1, 1024, 14, 14]               0\n",
            "          Conv2d-131          [-1, 256, 14, 14]         262,400\n",
            "     BatchNorm2d-132          [-1, 256, 14, 14]             512\n",
            "            ReLU-133          [-1, 256, 14, 14]               0\n",
            "          Conv2d-134          [-1, 256, 14, 14]         590,080\n",
            "     BatchNorm2d-135          [-1, 256, 14, 14]             512\n",
            "            ReLU-136          [-1, 256, 14, 14]               0\n",
            "          Conv2d-137         [-1, 1024, 14, 14]         263,168\n",
            "     BatchNorm2d-138         [-1, 1024, 14, 14]           2,048\n",
            "            ReLU-139         [-1, 1024, 14, 14]               0\n",
            "           block-140         [-1, 1024, 14, 14]               0\n",
            "          Conv2d-141          [-1, 256, 14, 14]         262,400\n",
            "     BatchNorm2d-142          [-1, 256, 14, 14]             512\n",
            "            ReLU-143          [-1, 256, 14, 14]               0\n",
            "          Conv2d-144          [-1, 256, 14, 14]         590,080\n",
            "     BatchNorm2d-145          [-1, 256, 14, 14]             512\n",
            "            ReLU-146          [-1, 256, 14, 14]               0\n",
            "          Conv2d-147         [-1, 1024, 14, 14]         263,168\n",
            "     BatchNorm2d-148         [-1, 1024, 14, 14]           2,048\n",
            "            ReLU-149         [-1, 1024, 14, 14]               0\n",
            "           block-150         [-1, 1024, 14, 14]               0\n",
            "          Conv2d-151          [-1, 256, 14, 14]         262,400\n",
            "     BatchNorm2d-152          [-1, 256, 14, 14]             512\n",
            "            ReLU-153          [-1, 256, 14, 14]               0\n",
            "          Conv2d-154          [-1, 256, 14, 14]         590,080\n",
            "     BatchNorm2d-155          [-1, 256, 14, 14]             512\n",
            "            ReLU-156          [-1, 256, 14, 14]               0\n",
            "          Conv2d-157         [-1, 1024, 14, 14]         263,168\n",
            "     BatchNorm2d-158         [-1, 1024, 14, 14]           2,048\n",
            "            ReLU-159         [-1, 1024, 14, 14]               0\n",
            "           block-160         [-1, 1024, 14, 14]               0\n",
            "          Conv2d-161          [-1, 256, 14, 14]         262,400\n",
            "     BatchNorm2d-162          [-1, 256, 14, 14]             512\n",
            "            ReLU-163          [-1, 256, 14, 14]               0\n",
            "          Conv2d-164          [-1, 256, 14, 14]         590,080\n",
            "     BatchNorm2d-165          [-1, 256, 14, 14]             512\n",
            "            ReLU-166          [-1, 256, 14, 14]               0\n",
            "          Conv2d-167         [-1, 1024, 14, 14]         263,168\n",
            "     BatchNorm2d-168         [-1, 1024, 14, 14]           2,048\n",
            "            ReLU-169         [-1, 1024, 14, 14]               0\n",
            "           block-170         [-1, 1024, 14, 14]               0\n",
            "          Conv2d-171          [-1, 256, 14, 14]         262,400\n",
            "     BatchNorm2d-172          [-1, 256, 14, 14]             512\n",
            "            ReLU-173          [-1, 256, 14, 14]               0\n",
            "          Conv2d-174          [-1, 256, 14, 14]         590,080\n",
            "     BatchNorm2d-175          [-1, 256, 14, 14]             512\n",
            "            ReLU-176          [-1, 256, 14, 14]               0\n",
            "          Conv2d-177         [-1, 1024, 14, 14]         263,168\n",
            "     BatchNorm2d-178         [-1, 1024, 14, 14]           2,048\n",
            "            ReLU-179         [-1, 1024, 14, 14]               0\n",
            "           block-180         [-1, 1024, 14, 14]               0\n",
            "          Conv2d-181          [-1, 256, 14, 14]         262,400\n",
            "     BatchNorm2d-182          [-1, 256, 14, 14]             512\n",
            "            ReLU-183          [-1, 256, 14, 14]               0\n",
            "          Conv2d-184          [-1, 256, 14, 14]         590,080\n",
            "     BatchNorm2d-185          [-1, 256, 14, 14]             512\n",
            "            ReLU-186          [-1, 256, 14, 14]               0\n",
            "          Conv2d-187         [-1, 1024, 14, 14]         263,168\n",
            "     BatchNorm2d-188         [-1, 1024, 14, 14]           2,048\n",
            "            ReLU-189         [-1, 1024, 14, 14]               0\n",
            "           block-190         [-1, 1024, 14, 14]               0\n",
            "          Conv2d-191          [-1, 256, 14, 14]         262,400\n",
            "     BatchNorm2d-192          [-1, 256, 14, 14]             512\n",
            "            ReLU-193          [-1, 256, 14, 14]               0\n",
            "          Conv2d-194          [-1, 256, 14, 14]         590,080\n",
            "     BatchNorm2d-195          [-1, 256, 14, 14]             512\n",
            "            ReLU-196          [-1, 256, 14, 14]               0\n",
            "          Conv2d-197         [-1, 1024, 14, 14]         263,168\n",
            "     BatchNorm2d-198         [-1, 1024, 14, 14]           2,048\n",
            "            ReLU-199         [-1, 1024, 14, 14]               0\n",
            "           block-200         [-1, 1024, 14, 14]               0\n",
            "          Conv2d-201          [-1, 256, 14, 14]         262,400\n",
            "     BatchNorm2d-202          [-1, 256, 14, 14]             512\n",
            "            ReLU-203          [-1, 256, 14, 14]               0\n",
            "          Conv2d-204          [-1, 256, 14, 14]         590,080\n",
            "     BatchNorm2d-205          [-1, 256, 14, 14]             512\n",
            "            ReLU-206          [-1, 256, 14, 14]               0\n",
            "          Conv2d-207         [-1, 1024, 14, 14]         263,168\n",
            "     BatchNorm2d-208         [-1, 1024, 14, 14]           2,048\n",
            "            ReLU-209         [-1, 1024, 14, 14]               0\n",
            "           block-210         [-1, 1024, 14, 14]               0\n",
            "          Conv2d-211          [-1, 256, 14, 14]         262,400\n",
            "     BatchNorm2d-212          [-1, 256, 14, 14]             512\n",
            "            ReLU-213          [-1, 256, 14, 14]               0\n",
            "          Conv2d-214          [-1, 256, 14, 14]         590,080\n",
            "     BatchNorm2d-215          [-1, 256, 14, 14]             512\n",
            "            ReLU-216          [-1, 256, 14, 14]               0\n",
            "          Conv2d-217         [-1, 1024, 14, 14]         263,168\n",
            "     BatchNorm2d-218         [-1, 1024, 14, 14]           2,048\n",
            "            ReLU-219         [-1, 1024, 14, 14]               0\n",
            "           block-220         [-1, 1024, 14, 14]               0\n",
            "          Conv2d-221          [-1, 256, 14, 14]         262,400\n",
            "     BatchNorm2d-222          [-1, 256, 14, 14]             512\n",
            "            ReLU-223          [-1, 256, 14, 14]               0\n",
            "          Conv2d-224          [-1, 256, 14, 14]         590,080\n",
            "     BatchNorm2d-225          [-1, 256, 14, 14]             512\n",
            "            ReLU-226          [-1, 256, 14, 14]               0\n",
            "          Conv2d-227         [-1, 1024, 14, 14]         263,168\n",
            "     BatchNorm2d-228         [-1, 1024, 14, 14]           2,048\n",
            "            ReLU-229         [-1, 1024, 14, 14]               0\n",
            "           block-230         [-1, 1024, 14, 14]               0\n",
            "          Conv2d-231          [-1, 256, 14, 14]         262,400\n",
            "     BatchNorm2d-232          [-1, 256, 14, 14]             512\n",
            "            ReLU-233          [-1, 256, 14, 14]               0\n",
            "          Conv2d-234          [-1, 256, 14, 14]         590,080\n",
            "     BatchNorm2d-235          [-1, 256, 14, 14]             512\n",
            "            ReLU-236          [-1, 256, 14, 14]               0\n",
            "          Conv2d-237         [-1, 1024, 14, 14]         263,168\n",
            "     BatchNorm2d-238         [-1, 1024, 14, 14]           2,048\n",
            "            ReLU-239         [-1, 1024, 14, 14]               0\n",
            "           block-240         [-1, 1024, 14, 14]               0\n",
            "          Conv2d-241          [-1, 256, 14, 14]         262,400\n",
            "     BatchNorm2d-242          [-1, 256, 14, 14]             512\n",
            "            ReLU-243          [-1, 256, 14, 14]               0\n",
            "          Conv2d-244          [-1, 256, 14, 14]         590,080\n",
            "     BatchNorm2d-245          [-1, 256, 14, 14]             512\n",
            "            ReLU-246          [-1, 256, 14, 14]               0\n",
            "          Conv2d-247         [-1, 1024, 14, 14]         263,168\n",
            "     BatchNorm2d-248         [-1, 1024, 14, 14]           2,048\n",
            "            ReLU-249         [-1, 1024, 14, 14]               0\n",
            "           block-250         [-1, 1024, 14, 14]               0\n",
            "          Conv2d-251          [-1, 256, 14, 14]         262,400\n",
            "     BatchNorm2d-252          [-1, 256, 14, 14]             512\n",
            "            ReLU-253          [-1, 256, 14, 14]               0\n",
            "          Conv2d-254          [-1, 256, 14, 14]         590,080\n",
            "     BatchNorm2d-255          [-1, 256, 14, 14]             512\n",
            "            ReLU-256          [-1, 256, 14, 14]               0\n",
            "          Conv2d-257         [-1, 1024, 14, 14]         263,168\n",
            "     BatchNorm2d-258         [-1, 1024, 14, 14]           2,048\n",
            "            ReLU-259         [-1, 1024, 14, 14]               0\n",
            "           block-260         [-1, 1024, 14, 14]               0\n",
            "          Conv2d-261          [-1, 256, 14, 14]         262,400\n",
            "     BatchNorm2d-262          [-1, 256, 14, 14]             512\n",
            "            ReLU-263          [-1, 256, 14, 14]               0\n",
            "          Conv2d-264          [-1, 256, 14, 14]         590,080\n",
            "     BatchNorm2d-265          [-1, 256, 14, 14]             512\n",
            "            ReLU-266          [-1, 256, 14, 14]               0\n",
            "          Conv2d-267         [-1, 1024, 14, 14]         263,168\n",
            "     BatchNorm2d-268         [-1, 1024, 14, 14]           2,048\n",
            "            ReLU-269         [-1, 1024, 14, 14]               0\n",
            "           block-270         [-1, 1024, 14, 14]               0\n",
            "          Conv2d-271          [-1, 256, 14, 14]         262,400\n",
            "     BatchNorm2d-272          [-1, 256, 14, 14]             512\n",
            "            ReLU-273          [-1, 256, 14, 14]               0\n",
            "          Conv2d-274          [-1, 256, 14, 14]         590,080\n",
            "     BatchNorm2d-275          [-1, 256, 14, 14]             512\n",
            "            ReLU-276          [-1, 256, 14, 14]               0\n",
            "          Conv2d-277         [-1, 1024, 14, 14]         263,168\n",
            "     BatchNorm2d-278         [-1, 1024, 14, 14]           2,048\n",
            "            ReLU-279         [-1, 1024, 14, 14]               0\n",
            "           block-280         [-1, 1024, 14, 14]               0\n",
            "          Conv2d-281          [-1, 256, 14, 14]         262,400\n",
            "     BatchNorm2d-282          [-1, 256, 14, 14]             512\n",
            "            ReLU-283          [-1, 256, 14, 14]               0\n",
            "          Conv2d-284          [-1, 256, 14, 14]         590,080\n",
            "     BatchNorm2d-285          [-1, 256, 14, 14]             512\n",
            "            ReLU-286          [-1, 256, 14, 14]               0\n",
            "          Conv2d-287         [-1, 1024, 14, 14]         263,168\n",
            "     BatchNorm2d-288         [-1, 1024, 14, 14]           2,048\n",
            "            ReLU-289         [-1, 1024, 14, 14]               0\n",
            "           block-290         [-1, 1024, 14, 14]               0\n",
            "          Conv2d-291          [-1, 256, 14, 14]         262,400\n",
            "     BatchNorm2d-292          [-1, 256, 14, 14]             512\n",
            "            ReLU-293          [-1, 256, 14, 14]               0\n",
            "          Conv2d-294          [-1, 256, 14, 14]         590,080\n",
            "     BatchNorm2d-295          [-1, 256, 14, 14]             512\n",
            "            ReLU-296          [-1, 256, 14, 14]               0\n",
            "          Conv2d-297         [-1, 1024, 14, 14]         263,168\n",
            "     BatchNorm2d-298         [-1, 1024, 14, 14]           2,048\n",
            "            ReLU-299         [-1, 1024, 14, 14]               0\n",
            "           block-300         [-1, 1024, 14, 14]               0\n",
            "          Conv2d-301          [-1, 256, 14, 14]         262,400\n",
            "     BatchNorm2d-302          [-1, 256, 14, 14]             512\n",
            "            ReLU-303          [-1, 256, 14, 14]               0\n",
            "          Conv2d-304          [-1, 256, 14, 14]         590,080\n",
            "     BatchNorm2d-305          [-1, 256, 14, 14]             512\n",
            "            ReLU-306          [-1, 256, 14, 14]               0\n",
            "          Conv2d-307         [-1, 1024, 14, 14]         263,168\n",
            "     BatchNorm2d-308         [-1, 1024, 14, 14]           2,048\n",
            "            ReLU-309         [-1, 1024, 14, 14]               0\n",
            "           block-310         [-1, 1024, 14, 14]               0\n",
            "          Conv2d-311          [-1, 256, 14, 14]         262,400\n",
            "     BatchNorm2d-312          [-1, 256, 14, 14]             512\n",
            "            ReLU-313          [-1, 256, 14, 14]               0\n",
            "          Conv2d-314          [-1, 256, 14, 14]         590,080\n",
            "     BatchNorm2d-315          [-1, 256, 14, 14]             512\n",
            "            ReLU-316          [-1, 256, 14, 14]               0\n",
            "          Conv2d-317         [-1, 1024, 14, 14]         263,168\n",
            "     BatchNorm2d-318         [-1, 1024, 14, 14]           2,048\n",
            "            ReLU-319         [-1, 1024, 14, 14]               0\n",
            "           block-320         [-1, 1024, 14, 14]               0\n",
            "          Conv2d-321          [-1, 256, 14, 14]         262,400\n",
            "     BatchNorm2d-322          [-1, 256, 14, 14]             512\n",
            "            ReLU-323          [-1, 256, 14, 14]               0\n",
            "          Conv2d-324          [-1, 256, 14, 14]         590,080\n",
            "     BatchNorm2d-325          [-1, 256, 14, 14]             512\n",
            "            ReLU-326          [-1, 256, 14, 14]               0\n",
            "          Conv2d-327         [-1, 1024, 14, 14]         263,168\n",
            "     BatchNorm2d-328         [-1, 1024, 14, 14]           2,048\n",
            "            ReLU-329         [-1, 1024, 14, 14]               0\n",
            "           block-330         [-1, 1024, 14, 14]               0\n",
            "          Conv2d-331          [-1, 256, 14, 14]         262,400\n",
            "     BatchNorm2d-332          [-1, 256, 14, 14]             512\n",
            "            ReLU-333          [-1, 256, 14, 14]               0\n",
            "          Conv2d-334          [-1, 256, 14, 14]         590,080\n",
            "     BatchNorm2d-335          [-1, 256, 14, 14]             512\n",
            "            ReLU-336          [-1, 256, 14, 14]               0\n",
            "          Conv2d-337         [-1, 1024, 14, 14]         263,168\n",
            "     BatchNorm2d-338         [-1, 1024, 14, 14]           2,048\n",
            "            ReLU-339         [-1, 1024, 14, 14]               0\n",
            "           block-340         [-1, 1024, 14, 14]               0\n",
            "          Conv2d-341          [-1, 256, 14, 14]         262,400\n",
            "     BatchNorm2d-342          [-1, 256, 14, 14]             512\n",
            "            ReLU-343          [-1, 256, 14, 14]               0\n",
            "          Conv2d-344          [-1, 256, 14, 14]         590,080\n",
            "     BatchNorm2d-345          [-1, 256, 14, 14]             512\n",
            "            ReLU-346          [-1, 256, 14, 14]               0\n",
            "          Conv2d-347         [-1, 1024, 14, 14]         263,168\n",
            "     BatchNorm2d-348         [-1, 1024, 14, 14]           2,048\n",
            "            ReLU-349         [-1, 1024, 14, 14]               0\n",
            "           block-350         [-1, 1024, 14, 14]               0\n",
            "          Conv2d-351          [-1, 256, 14, 14]         262,400\n",
            "     BatchNorm2d-352          [-1, 256, 14, 14]             512\n",
            "            ReLU-353          [-1, 256, 14, 14]               0\n",
            "          Conv2d-354          [-1, 256, 14, 14]         590,080\n",
            "     BatchNorm2d-355          [-1, 256, 14, 14]             512\n",
            "            ReLU-356          [-1, 256, 14, 14]               0\n",
            "          Conv2d-357         [-1, 1024, 14, 14]         263,168\n",
            "     BatchNorm2d-358         [-1, 1024, 14, 14]           2,048\n",
            "            ReLU-359         [-1, 1024, 14, 14]               0\n",
            "           block-360         [-1, 1024, 14, 14]               0\n",
            "          Conv2d-361          [-1, 256, 14, 14]         262,400\n",
            "     BatchNorm2d-362          [-1, 256, 14, 14]             512\n",
            "            ReLU-363          [-1, 256, 14, 14]               0\n",
            "          Conv2d-364          [-1, 256, 14, 14]         590,080\n",
            "     BatchNorm2d-365          [-1, 256, 14, 14]             512\n",
            "            ReLU-366          [-1, 256, 14, 14]               0\n",
            "          Conv2d-367         [-1, 1024, 14, 14]         263,168\n",
            "     BatchNorm2d-368         [-1, 1024, 14, 14]           2,048\n",
            "            ReLU-369         [-1, 1024, 14, 14]               0\n",
            "           block-370         [-1, 1024, 14, 14]               0\n",
            "          Conv2d-371          [-1, 256, 14, 14]         262,400\n",
            "     BatchNorm2d-372          [-1, 256, 14, 14]             512\n",
            "            ReLU-373          [-1, 256, 14, 14]               0\n",
            "          Conv2d-374          [-1, 256, 14, 14]         590,080\n",
            "     BatchNorm2d-375          [-1, 256, 14, 14]             512\n",
            "            ReLU-376          [-1, 256, 14, 14]               0\n",
            "          Conv2d-377         [-1, 1024, 14, 14]         263,168\n",
            "     BatchNorm2d-378         [-1, 1024, 14, 14]           2,048\n",
            "            ReLU-379         [-1, 1024, 14, 14]               0\n",
            "           block-380         [-1, 1024, 14, 14]               0\n",
            "          Conv2d-381          [-1, 256, 14, 14]         262,400\n",
            "     BatchNorm2d-382          [-1, 256, 14, 14]             512\n",
            "            ReLU-383          [-1, 256, 14, 14]               0\n",
            "          Conv2d-384          [-1, 256, 14, 14]         590,080\n",
            "     BatchNorm2d-385          [-1, 256, 14, 14]             512\n",
            "            ReLU-386          [-1, 256, 14, 14]               0\n",
            "          Conv2d-387         [-1, 1024, 14, 14]         263,168\n",
            "     BatchNorm2d-388         [-1, 1024, 14, 14]           2,048\n",
            "            ReLU-389         [-1, 1024, 14, 14]               0\n",
            "           block-390         [-1, 1024, 14, 14]               0\n",
            "          Conv2d-391          [-1, 256, 14, 14]         262,400\n",
            "     BatchNorm2d-392          [-1, 256, 14, 14]             512\n",
            "            ReLU-393          [-1, 256, 14, 14]               0\n",
            "          Conv2d-394          [-1, 256, 14, 14]         590,080\n",
            "     BatchNorm2d-395          [-1, 256, 14, 14]             512\n",
            "            ReLU-396          [-1, 256, 14, 14]               0\n",
            "          Conv2d-397         [-1, 1024, 14, 14]         263,168\n",
            "     BatchNorm2d-398         [-1, 1024, 14, 14]           2,048\n",
            "            ReLU-399         [-1, 1024, 14, 14]               0\n",
            "           block-400         [-1, 1024, 14, 14]               0\n",
            "          Conv2d-401          [-1, 256, 14, 14]         262,400\n",
            "     BatchNorm2d-402          [-1, 256, 14, 14]             512\n",
            "            ReLU-403          [-1, 256, 14, 14]               0\n",
            "          Conv2d-404          [-1, 256, 14, 14]         590,080\n",
            "     BatchNorm2d-405          [-1, 256, 14, 14]             512\n",
            "            ReLU-406          [-1, 256, 14, 14]               0\n",
            "          Conv2d-407         [-1, 1024, 14, 14]         263,168\n",
            "     BatchNorm2d-408         [-1, 1024, 14, 14]           2,048\n",
            "            ReLU-409         [-1, 1024, 14, 14]               0\n",
            "           block-410         [-1, 1024, 14, 14]               0\n",
            "          Conv2d-411          [-1, 256, 14, 14]         262,400\n",
            "     BatchNorm2d-412          [-1, 256, 14, 14]             512\n",
            "            ReLU-413          [-1, 256, 14, 14]               0\n",
            "          Conv2d-414          [-1, 256, 14, 14]         590,080\n",
            "     BatchNorm2d-415          [-1, 256, 14, 14]             512\n",
            "            ReLU-416          [-1, 256, 14, 14]               0\n",
            "          Conv2d-417         [-1, 1024, 14, 14]         263,168\n",
            "     BatchNorm2d-418         [-1, 1024, 14, 14]           2,048\n",
            "            ReLU-419         [-1, 1024, 14, 14]               0\n",
            "           block-420         [-1, 1024, 14, 14]               0\n",
            "          Conv2d-421          [-1, 256, 14, 14]         262,400\n",
            "     BatchNorm2d-422          [-1, 256, 14, 14]             512\n",
            "            ReLU-423          [-1, 256, 14, 14]               0\n",
            "          Conv2d-424          [-1, 256, 14, 14]         590,080\n",
            "     BatchNorm2d-425          [-1, 256, 14, 14]             512\n",
            "            ReLU-426          [-1, 256, 14, 14]               0\n",
            "          Conv2d-427         [-1, 1024, 14, 14]         263,168\n",
            "     BatchNorm2d-428         [-1, 1024, 14, 14]           2,048\n",
            "            ReLU-429         [-1, 1024, 14, 14]               0\n",
            "           block-430         [-1, 1024, 14, 14]               0\n",
            "          Conv2d-431          [-1, 256, 14, 14]         262,400\n",
            "     BatchNorm2d-432          [-1, 256, 14, 14]             512\n",
            "            ReLU-433          [-1, 256, 14, 14]               0\n",
            "          Conv2d-434          [-1, 256, 14, 14]         590,080\n",
            "     BatchNorm2d-435          [-1, 256, 14, 14]             512\n",
            "            ReLU-436          [-1, 256, 14, 14]               0\n",
            "          Conv2d-437         [-1, 1024, 14, 14]         263,168\n",
            "     BatchNorm2d-438         [-1, 1024, 14, 14]           2,048\n",
            "            ReLU-439         [-1, 1024, 14, 14]               0\n",
            "           block-440         [-1, 1024, 14, 14]               0\n",
            "          Conv2d-441          [-1, 256, 14, 14]         262,400\n",
            "     BatchNorm2d-442          [-1, 256, 14, 14]             512\n",
            "            ReLU-443          [-1, 256, 14, 14]               0\n",
            "          Conv2d-444          [-1, 256, 14, 14]         590,080\n",
            "     BatchNorm2d-445          [-1, 256, 14, 14]             512\n",
            "            ReLU-446          [-1, 256, 14, 14]               0\n",
            "          Conv2d-447         [-1, 1024, 14, 14]         263,168\n",
            "     BatchNorm2d-448         [-1, 1024, 14, 14]           2,048\n",
            "            ReLU-449         [-1, 1024, 14, 14]               0\n",
            "           block-450         [-1, 1024, 14, 14]               0\n",
            "          Conv2d-451          [-1, 256, 14, 14]         262,400\n",
            "     BatchNorm2d-452          [-1, 256, 14, 14]             512\n",
            "            ReLU-453          [-1, 256, 14, 14]               0\n",
            "          Conv2d-454          [-1, 256, 14, 14]         590,080\n",
            "     BatchNorm2d-455          [-1, 256, 14, 14]             512\n",
            "            ReLU-456          [-1, 256, 14, 14]               0\n",
            "          Conv2d-457         [-1, 1024, 14, 14]         263,168\n",
            "     BatchNorm2d-458         [-1, 1024, 14, 14]           2,048\n",
            "            ReLU-459         [-1, 1024, 14, 14]               0\n",
            "           block-460         [-1, 1024, 14, 14]               0\n",
            "          Conv2d-461          [-1, 256, 14, 14]         262,400\n",
            "     BatchNorm2d-462          [-1, 256, 14, 14]             512\n",
            "            ReLU-463          [-1, 256, 14, 14]               0\n",
            "          Conv2d-464          [-1, 256, 14, 14]         590,080\n",
            "     BatchNorm2d-465          [-1, 256, 14, 14]             512\n",
            "            ReLU-466          [-1, 256, 14, 14]               0\n",
            "          Conv2d-467         [-1, 1024, 14, 14]         263,168\n",
            "     BatchNorm2d-468         [-1, 1024, 14, 14]           2,048\n",
            "            ReLU-469         [-1, 1024, 14, 14]               0\n",
            "           block-470         [-1, 1024, 14, 14]               0\n",
            "          Conv2d-471          [-1, 256, 14, 14]         262,400\n",
            "     BatchNorm2d-472          [-1, 256, 14, 14]             512\n",
            "            ReLU-473          [-1, 256, 14, 14]               0\n",
            "          Conv2d-474          [-1, 256, 14, 14]         590,080\n",
            "     BatchNorm2d-475          [-1, 256, 14, 14]             512\n",
            "            ReLU-476          [-1, 256, 14, 14]               0\n",
            "          Conv2d-477         [-1, 1024, 14, 14]         263,168\n",
            "     BatchNorm2d-478         [-1, 1024, 14, 14]           2,048\n",
            "            ReLU-479         [-1, 1024, 14, 14]               0\n",
            "           block-480         [-1, 1024, 14, 14]               0\n",
            "          Conv2d-481          [-1, 512, 14, 14]         524,800\n",
            "     BatchNorm2d-482          [-1, 512, 14, 14]           1,024\n",
            "            ReLU-483          [-1, 512, 14, 14]               0\n",
            "          Conv2d-484            [-1, 512, 7, 7]       2,359,808\n",
            "     BatchNorm2d-485            [-1, 512, 7, 7]           1,024\n",
            "            ReLU-486            [-1, 512, 7, 7]               0\n",
            "          Conv2d-487           [-1, 2048, 7, 7]       1,050,624\n",
            "     BatchNorm2d-488           [-1, 2048, 7, 7]           4,096\n",
            "          Conv2d-489           [-1, 2048, 7, 7]       2,099,200\n",
            "     BatchNorm2d-490           [-1, 2048, 7, 7]           4,096\n",
            "            ReLU-491           [-1, 2048, 7, 7]               0\n",
            "           block-492           [-1, 2048, 7, 7]               0\n",
            "          Conv2d-493            [-1, 512, 7, 7]       1,049,088\n",
            "     BatchNorm2d-494            [-1, 512, 7, 7]           1,024\n",
            "            ReLU-495            [-1, 512, 7, 7]               0\n",
            "          Conv2d-496            [-1, 512, 7, 7]       2,359,808\n",
            "     BatchNorm2d-497            [-1, 512, 7, 7]           1,024\n",
            "            ReLU-498            [-1, 512, 7, 7]               0\n",
            "          Conv2d-499           [-1, 2048, 7, 7]       1,050,624\n",
            "     BatchNorm2d-500           [-1, 2048, 7, 7]           4,096\n",
            "            ReLU-501           [-1, 2048, 7, 7]               0\n",
            "           block-502           [-1, 2048, 7, 7]               0\n",
            "          Conv2d-503            [-1, 512, 7, 7]       1,049,088\n",
            "     BatchNorm2d-504            [-1, 512, 7, 7]           1,024\n",
            "            ReLU-505            [-1, 512, 7, 7]               0\n",
            "          Conv2d-506            [-1, 512, 7, 7]       2,359,808\n",
            "     BatchNorm2d-507            [-1, 512, 7, 7]           1,024\n",
            "            ReLU-508            [-1, 512, 7, 7]               0\n",
            "          Conv2d-509           [-1, 2048, 7, 7]       1,050,624\n",
            "     BatchNorm2d-510           [-1, 2048, 7, 7]           4,096\n",
            "            ReLU-511           [-1, 2048, 7, 7]               0\n",
            "           block-512           [-1, 2048, 7, 7]               0\n",
            "AdaptiveAvgPool2d-513           [-1, 2048, 1, 1]               0\n",
            "          Linear-514                    [-1, 3]           6,147\n",
            "================================================================\n",
            "Total params: 58,225,667\n",
            "Trainable params: 58,225,667\n",
            "Non-trainable params: 0\n",
            "----------------------------------------------------------------\n",
            "Input size (MB): 0.57\n",
            "Forward/backward pass size (MB): 606.58\n",
            "Params size (MB): 222.11\n",
            "Estimated Total Size (MB): 829.27\n",
            "----------------------------------------------------------------\n"
          ]
        }
      ]
    },
    {
      "cell_type": "markdown",
      "source": [
        "# Load Cifar10 dataset"
      ],
      "metadata": {
        "id": "o9unMO1tpZc1"
      }
    },
    {
      "cell_type": "code",
      "source": [
        "import torch\n",
        "import torchvision\n",
        "import torchvision.transforms as transforms\n",
        "\n",
        "# Define the transformations to apply to the CIFAR-10 data\n",
        "transform = transforms.Compose([transforms.Resize((224,224)), #<-- Resize for ResNet input\n",
        "                                transforms.ToTensor(),\n",
        "                                transforms.Normalize((0.5,0.5,0.5), (0.5,0.5,0.5))])\n",
        "\n",
        "# Download and load train and test data\n",
        "train_dataset = torchvision.datasets.CIFAR10(root='./data', train=True, download=True, transform=transform)\n",
        "test_dataset = torchvision.datasets.CIFAR10(root='./data', train=False, download=True, transform=transform)"
      ],
      "metadata": {
        "colab": {
          "base_uri": "https://localhost:8080/"
        },
        "id": "kbUdpzMQo6dz",
        "outputId": "c427e59c-5129-449e-bd4f-b7a18eced0f7"
      },
      "execution_count": 8,
      "outputs": [
        {
          "output_type": "stream",
          "name": "stdout",
          "text": [
            "Downloading https://www.cs.toronto.edu/~kriz/cifar-10-python.tar.gz to ./data/cifar-10-python.tar.gz\n"
          ]
        },
        {
          "output_type": "stream",
          "name": "stderr",
          "text": [
            "100%|██████████| 170498071/170498071 [00:13<00:00, 12923919.58it/s]\n"
          ]
        },
        {
          "output_type": "stream",
          "name": "stdout",
          "text": [
            "Extracting ./data/cifar-10-python.tar.gz to ./data\n",
            "Files already downloaded and verified\n"
          ]
        }
      ]
    },
    {
      "cell_type": "markdown",
      "source": [
        "# Filtered dataset"
      ],
      "metadata": {
        "id": "uaI82GASpiuv"
      }
    },
    {
      "cell_type": "code",
      "source": [
        "# Filter images from specific labels\n",
        "desired_labels = [0, 1, 2]  # Airplane, Automobile, Bird\n",
        "filtered_indices = [i for i in range(len(train_dataset)) if train_dataset.targets[i] in desired_labels]\n",
        "filtered_dataset = torch.utils.data.Subset(train_dataset, filtered_indices)\n",
        "\n",
        "# Save the filtered dataset locally\n",
        "save_path = \"./filtered_dataset.pth\"\n",
        "torch.save(filtered_dataset, save_path)\n",
        "\n",
        "print(\"Filtered dataset saved at:\", save_path)\n"
      ],
      "metadata": {
        "colab": {
          "base_uri": "https://localhost:8080/"
        },
        "id": "db-pkwfBpf8a",
        "outputId": "731eef6a-8ba4-4dcc-a2c2-7407572a3782"
      },
      "execution_count": 9,
      "outputs": [
        {
          "output_type": "stream",
          "name": "stdout",
          "text": [
            "Filtered dataset saved at: ./filtered_dataset.pth\n"
          ]
        }
      ]
    },
    {
      "cell_type": "code",
      "source": [
        "# Random split filtered dataset\n",
        "from torch.utils.data import random_split\n",
        "\n",
        "# Define the proportions for train and test split\n",
        "train_ratio = 0.8\n",
        "test_ratio = 1 - train_ratio\n",
        "\n",
        "# Calculate the sizes for train and test datasets\n",
        "train_size = int(train_ratio * len(filtered_dataset))\n",
        "test_size = len(filtered_dataset) - train_size\n",
        "\n",
        "# Split the dataset into train and test subsets\n",
        "train_dataset, test_dataset = random_split(filtered_dataset, [train_size, test_size])\n",
        "\n",
        "# Verify the sizes of the train and test datasets\n",
        "print(\"Train dataset size:\", len(train_dataset))\n",
        "print(\"Test dataset size:\", len(test_dataset))"
      ],
      "metadata": {
        "colab": {
          "base_uri": "https://localhost:8080/"
        },
        "id": "Rvvg9xpzplD4",
        "outputId": "0cce1faa-0d50-465a-a978-96221667cd2f"
      },
      "execution_count": 10,
      "outputs": [
        {
          "output_type": "stream",
          "name": "stdout",
          "text": [
            "Train dataset size: 12000\n",
            "Test dataset size: 3000\n"
          ]
        }
      ]
    },
    {
      "cell_type": "markdown",
      "source": [
        "# DataLoader"
      ],
      "metadata": {
        "id": "ctNiv07kpspe"
      }
    },
    {
      "cell_type": "code",
      "source": [
        "train_loader = torch.utils.data.DataLoader(train_dataset, batch_size=8, shuffle=True)\n",
        "test_loader = torch.utils.data.DataLoader(test_dataset, batch_size=8, shuffle=False)"
      ],
      "metadata": {
        "id": "3rsBPI33ppT8"
      },
      "execution_count": 11,
      "outputs": []
    },
    {
      "cell_type": "code",
      "source": [
        "# Example from train_loader\n",
        "train_iterate = iter(train_loader)\n",
        "features, labels = next(train_iterate)\n",
        "features.shape"
      ],
      "metadata": {
        "colab": {
          "base_uri": "https://localhost:8080/"
        },
        "id": "w64G8HCjpufc",
        "outputId": "55a7128e-b124-4f66-bad8-91017984c3c5"
      },
      "execution_count": 12,
      "outputs": [
        {
          "output_type": "execute_result",
          "data": {
            "text/plain": [
              "torch.Size([8, 3, 224, 224])"
            ]
          },
          "metadata": {},
          "execution_count": 12
        }
      ]
    },
    {
      "cell_type": "code",
      "source": [
        "labels"
      ],
      "metadata": {
        "colab": {
          "base_uri": "https://localhost:8080/"
        },
        "id": "251YIQcypwtD",
        "outputId": "c0ff9892-5579-4158-dd5a-7958ff877d50"
      },
      "execution_count": 13,
      "outputs": [
        {
          "output_type": "execute_result",
          "data": {
            "text/plain": [
              "tensor([2, 0, 2, 1, 0, 1, 0, 0])"
            ]
          },
          "metadata": {},
          "execution_count": 13
        }
      ]
    },
    {
      "cell_type": "markdown",
      "source": [
        "# Train on filtered Dataset"
      ],
      "metadata": {
        "id": "MNdQ_GlvpzUF"
      }
    },
    {
      "cell_type": "code",
      "source": [
        "# Instantiate model\n",
        "model_train = ResNet152(num_classes=3)"
      ],
      "metadata": {
        "id": "WgZzdXwApxPP"
      },
      "execution_count": 14,
      "outputs": []
    },
    {
      "cell_type": "code",
      "source": [
        "# Pass model to device\n",
        "model_train = model_train.to(device)\n"
      ],
      "metadata": {
        "id": "hmynnaFYp4pY"
      },
      "execution_count": 15,
      "outputs": []
    },
    {
      "cell_type": "code",
      "source": [
        "# Compile the model\n",
        "# Define the optimizer\n",
        "optimizer = torch.optim.Adam(model_train.parameters(), lr=0.0001) # Decrease the lr, because batch normalization\n",
        "\n",
        "# Define the loss function\n",
        "criterion = nn.CrossEntropyLoss()"
      ],
      "metadata": {
        "id": "c4c8onPMp6ma"
      },
      "execution_count": 16,
      "outputs": []
    },
    {
      "cell_type": "code",
      "source": [
        "from tqdm import tqdm\n",
        "import time\n",
        "\n",
        "num_epochs = 10 # For less computation\n",
        "\n",
        "for epoch in tqdm(range(num_epochs), desc='Epochs'):\n",
        "    model_train.train()  # Set the model to training mode\n",
        "\n",
        "    start_time = time.time() # Start time of the epoch\n",
        "\n",
        "    running_loss = 0.0\n",
        "    running_corrects = 0\n",
        "\n",
        "    # Iterate over the training data in batches\n",
        "    for inputs, labels in train_loader:\n",
        "        # Move the inputs and labels to the selected device\n",
        "        inputs = inputs.to(device)\n",
        "        labels = labels.to(device)\n",
        "\n",
        "        # Forward pass\n",
        "        outputs = model_train(inputs)\n",
        "\n",
        "        torch.cuda.empty_cache() # Limit GPU memory growth\n",
        "\n",
        "        # Calculate the loss\n",
        "        loss = criterion(outputs, labels)\n",
        "\n",
        "        # Backward pass and optimization\n",
        "        optimizer.zero_grad()\n",
        "        loss.backward()\n",
        "        optimizer.step()\n",
        "\n",
        "        torch.cuda.empty_cache() # Limit GPU memory growth\n",
        "\n",
        "        # Update running loss and accuracy\n",
        "        running_loss += loss.item() * inputs.size(0)\n",
        "        _, preds = torch.max(outputs, 1) # the maximum value and the index of that maximum value along dimension 1\n",
        "        running_corrects += torch.sum(preds == labels.data) # labels.data gives access to underlying labels tensor\n",
        "\n",
        "    end_time = time.time()  # End time of the epoch\n",
        "    epoch_duration = end_time - start_time  # Duration of the epoch\n",
        "\n",
        "    # Print the epoch duration\n",
        "    tqdm.write(f\"Epoch {epoch+1} completed in {epoch_duration:.2f} seconds\")\n",
        "\n",
        "    # Calculate epoch loss and accuracy for training data\n",
        "    epoch_loss = running_loss / len(train_dataset)\n",
        "    epoch_acc = running_corrects.double() / len(train_dataset)\n",
        "\n",
        "    # Print the loss and accuracy for training and validation data\n",
        "    print(f\"Epoch [{epoch+1}/{num_epochs}], \"\n",
        "          f\"Train Loss: {epoch_loss:.4f}, Train Accuracy: {epoch_acc:.4f}\")\n"
      ],
      "metadata": {
        "colab": {
          "base_uri": "https://localhost:8080/"
        },
        "id": "0FEEAQKUp82I",
        "outputId": "e4af0de5-20f2-4a81-8c58-56aa6036b33c"
      },
      "execution_count": 17,
      "outputs": [
        {
          "output_type": "stream",
          "name": "stderr",
          "text": [
            "Epochs:  10%|█         | 1/10 [06:45<1:00:49, 405.55s/it]"
          ]
        },
        {
          "output_type": "stream",
          "name": "stdout",
          "text": [
            "Epoch 1 completed in 405.54 seconds\n",
            "Epoch [1/10], Train Loss: 0.7714, Train Accuracy: 0.6669\n"
          ]
        },
        {
          "output_type": "stream",
          "name": "stderr",
          "text": [
            "Epochs:  20%|██        | 2/10 [13:31<54:04, 405.56s/it]  "
          ]
        },
        {
          "output_type": "stream",
          "name": "stdout",
          "text": [
            "Epoch 2 completed in 405.55 seconds\n",
            "Epoch [2/10], Train Loss: 0.5676, Train Accuracy: 0.7685\n"
          ]
        },
        {
          "output_type": "stream",
          "name": "stderr",
          "text": [
            "Epochs:  30%|███       | 3/10 [20:16<47:18, 405.54s/it]"
          ]
        },
        {
          "output_type": "stream",
          "name": "stdout",
          "text": [
            "Epoch 3 completed in 405.50 seconds\n",
            "Epoch [3/10], Train Loss: 0.4847, Train Accuracy: 0.8057\n"
          ]
        },
        {
          "output_type": "stream",
          "name": "stderr",
          "text": [
            "Epochs:  40%|████      | 4/10 [27:02<40:32, 405.49s/it]"
          ]
        },
        {
          "output_type": "stream",
          "name": "stdout",
          "text": [
            "Epoch 4 completed in 405.41 seconds\n",
            "Epoch [4/10], Train Loss: 0.4375, Train Accuracy: 0.8249\n"
          ]
        },
        {
          "output_type": "stream",
          "name": "stderr",
          "text": [
            "Epochs:  50%|█████     | 5/10 [33:46<33:45, 405.14s/it]"
          ]
        },
        {
          "output_type": "stream",
          "name": "stdout",
          "text": [
            "Epoch 5 completed in 404.49 seconds\n",
            "Epoch [5/10], Train Loss: 0.3814, Train Accuracy: 0.8492\n"
          ]
        },
        {
          "output_type": "stream",
          "name": "stderr",
          "text": [
            "Epochs:  60%|██████    | 6/10 [40:30<26:59, 404.90s/it]"
          ]
        },
        {
          "output_type": "stream",
          "name": "stdout",
          "text": [
            "Epoch 6 completed in 404.43 seconds\n",
            "Epoch [6/10], Train Loss: 0.3471, Train Accuracy: 0.8618\n"
          ]
        },
        {
          "output_type": "stream",
          "name": "stderr",
          "text": [
            "Epochs:  70%|███████   | 7/10 [47:15<20:14, 404.67s/it]"
          ]
        },
        {
          "output_type": "stream",
          "name": "stdout",
          "text": [
            "Epoch 7 completed in 404.18 seconds\n",
            "Epoch [7/10], Train Loss: 0.3010, Train Accuracy: 0.8842\n"
          ]
        },
        {
          "output_type": "stream",
          "name": "stderr",
          "text": [
            "Epochs:  80%|████████  | 8/10 [53:56<13:27, 403.56s/it]"
          ]
        },
        {
          "output_type": "stream",
          "name": "stdout",
          "text": [
            "Epoch 8 completed in 401.17 seconds\n",
            "Epoch [8/10], Train Loss: 0.2740, Train Accuracy: 0.8945\n"
          ]
        },
        {
          "output_type": "stream",
          "name": "stderr",
          "text": [
            "Epochs:  90%|█████████ | 9/10 [1:00:37<06:42, 402.78s/it]"
          ]
        },
        {
          "output_type": "stream",
          "name": "stdout",
          "text": [
            "Epoch 9 completed in 401.05 seconds\n",
            "Epoch [9/10], Train Loss: 0.2459, Train Accuracy: 0.9085\n"
          ]
        },
        {
          "output_type": "stream",
          "name": "stderr",
          "text": [
            "Epochs: 100%|██████████| 10/10 [1:07:18<00:00, 403.85s/it]"
          ]
        },
        {
          "output_type": "stream",
          "name": "stdout",
          "text": [
            "Epoch 10 completed in 401.09 seconds\n",
            "Epoch [10/10], Train Loss: 0.2233, Train Accuracy: 0.9135\n"
          ]
        },
        {
          "output_type": "stream",
          "name": "stderr",
          "text": [
            "\n"
          ]
        }
      ]
    },
    {
      "cell_type": "code",
      "source": [
        "correct = 0\n",
        "total = 0\n",
        "\n",
        "with torch.no_grad(): # Disabling gradient calculation, since testing doesnot require weight update\n",
        "    model_train.eval() # Set the model to evaluation mode\n",
        "\n",
        "    for inputs, labels in test_loader:\n",
        "      # Move the inputs and labels to the selected device\n",
        "        inputs = inputs.to(device)\n",
        "        labels = labels.to(device)\n",
        "\n",
        "        # Forward pass\n",
        "        outputs = model_train(inputs)\n",
        "        _, predicted = torch.max(outputs, 1)\n",
        "\n",
        "        total += labels.size(0)\n",
        "        correct += (predicted == labels).sum().item()\n",
        "\n",
        "accuracy = 100 * correct / total\n",
        "print(f\"Test Accuracy: {accuracy:.2f}%\")"
      ],
      "metadata": {
        "colab": {
          "base_uri": "https://localhost:8080/"
        },
        "id": "hnB9WARZqHdB",
        "outputId": "656d39dd-c674-4302-d60a-e7b8d615ae23"
      },
      "execution_count": 18,
      "outputs": [
        {
          "output_type": "stream",
          "name": "stdout",
          "text": [
            "Test Accuracy: 91.43%\n"
          ]
        }
      ]
    },
    {
      "cell_type": "code",
      "source": [
        "# Save the trained model\n",
        "save_path = \"ResNet152.pth\"\n",
        "torch.save(model_train.state_dict(), save_path)\n",
        "\n",
        "print(\"Trained model saved at:\", save_path)"
      ],
      "metadata": {
        "colab": {
          "base_uri": "https://localhost:8080/"
        },
        "id": "iMYWPwpcqK2H",
        "outputId": "dbca1410-ebd4-4380-b500-895296174a74"
      },
      "execution_count": 19,
      "outputs": [
        {
          "output_type": "stream",
          "name": "stdout",
          "text": [
            "Trained model saved at: ResNet152.pth\n"
          ]
        }
      ]
    },
    {
      "cell_type": "markdown",
      "source": [
        "# Inference"
      ],
      "metadata": {
        "id": "Pa7DHawYB2d_"
      }
    },
    {
      "cell_type": "code",
      "source": [
        "from PIL import Image\n",
        "import matplotlib.pyplot as plt\n",
        "\n",
        "def predict(image):\n",
        "    device = torch.device('cuda' if torch.cuda.is_available() else 'cpu')\n",
        "    model = ResNet152(3,3)\n",
        "    model.load_state_dict(torch.load(\"/content/ResNet152.pth\")) # Load the model\n",
        "    model.eval()\n",
        "    model = model.to(device)\n",
        "\n",
        "    transform = transforms.Compose([transforms.Resize((224,224)), #<-- Resize for ResNet input\n",
        "                                transforms.ToTensor(),\n",
        "                                transforms.Normalize((0.5,0.5,0.5), (0.5,0.5,0.5))])\n",
        "    input_image = transform(image).unsqueeze(0)\n",
        "\n",
        "    # Forward pass\n",
        "    with torch.no_grad():\n",
        "        input_image = input_image.to(device)\n",
        "        output = model(input_image)\n",
        "\n",
        "    _, predicted = torch.max(output.data, 1)\n",
        "\n",
        "    # Get the predicted class probabilities\n",
        "    probabilities = torch.nn.functional.softmax(output, dim=1)[0]\n",
        "\n",
        "    # Get the predicted class label\n",
        "    predicted_class = torch.argmax(probabilities).item()\n",
        "\n",
        "    return probabilities, predicted_class\n"
      ],
      "metadata": {
        "id": "beIFxbtE9wRe"
      },
      "execution_count": 20,
      "outputs": []
    },
    {
      "cell_type": "code",
      "source": [
        "# Test on airplane\n",
        "image_path = \"/content/airplane.png\"\n",
        "image = Image.open(image_path)\n",
        "image.show()\n",
        "\n",
        "probabilities, predicted_class = predict(image)\n",
        "\n",
        "class_labels = ['airplane', 'automobile', 'bird']\n",
        "\n",
        "# Print the predicted class label and corresponding probability\n",
        "print(\"Predicted class:\", class_labels[predicted_class])\n",
        "print(\"Probability:\", probabilities[predicted_class].item())"
      ],
      "metadata": {
        "colab": {
          "base_uri": "https://localhost:8080/",
          "height": 84
        },
        "id": "MgZqDIKwB94R",
        "outputId": "e2ab312b-8c54-4419-f0eb-e437fc89b055"
      },
      "execution_count": 21,
      "outputs": [
        {
          "output_type": "display_data",
          "data": {
            "text/plain": [
              "<PIL.PngImagePlugin.PngImageFile image mode=RGB size=32x32 at 0x7FB9AC349120>"
            ],
            "image/png": "[encoded data removed]"
          },
          "metadata": {}
        },
        {
          "output_type": "stream",
          "name": "stdout",
          "text": [
            "Predicted class: airplane\n",
            "Probability: 0.570580780506134\n"
          ]
        }
      ]
    },
    {
      "cell_type": "code",
      "source": [
        "# Test on automobile\n",
        "image_path = \"/content/automobile.png\"\n",
        "image = Image.open(image_path)\n",
        "image.show()\n",
        "\n",
        "probabilities, predicted_class = predict(image)\n",
        "\n",
        "class_labels = ['airplane', 'automobile', 'bird']\n",
        "\n",
        "# Print the predicted class label and corresponding probability\n",
        "print(\"Predicted class:\", class_labels[predicted_class])\n",
        "print(\"Probability:\", probabilities[predicted_class].item())"
      ],
      "metadata": {
        "colab": {
          "base_uri": "https://localhost:8080/",
          "height": 84
        },
        "id": "vvBWl084CO9F",
        "outputId": "219e528b-091b-47d2-ac74-fb7c9005f6ef"
      },
      "execution_count": 22,
      "outputs": [
        {
          "output_type": "display_data",
          "data": {
            "text/plain": [
              "<PIL.PngImagePlugin.PngImageFile image mode=RGB size=32x32 at 0x7FB9A4B62560>"
            ],
            "image/png": "[encoded data removed]"
          },
          "metadata": {}
        },
        {
          "output_type": "stream",
          "name": "stdout",
          "text": [
            "Predicted class: automobile\n",
            "Probability: 0.9958659410476685\n"
          ]
        }
      ]
    },
    {
      "cell_type": "code",
      "source": [
        "# Test on automobile\n",
        "image_path = \"/content/bird.png\"\n",
        "image = Image.open(image_path)\n",
        "image.show()\n",
        "\n",
        "probabilities, predicted_class = predict(image)\n",
        "\n",
        "class_labels = ['airplane', 'automobile', 'bird']\n",
        "\n",
        "# Print the predicted class label and corresponding probability\n",
        "print(\"Predicted class:\", class_labels[predicted_class])\n",
        "print(\"Probability:\", probabilities[predicted_class].item())"
      ],
      "metadata": {
        "colab": {
          "base_uri": "https://localhost:8080/",
          "height": 84
        },
        "id": "oQm8GoZOCRe0",
        "outputId": "09994023-5c1f-4b6c-93cb-d4aa7debbaea"
      },
      "execution_count": 23,
      "outputs": [
        {
          "output_type": "display_data",
          "data": {
            "text/plain": [
              "<PIL.PngImagePlugin.PngImageFile image mode=RGB size=32x32 at 0x7FB9A49E88B0>"
            ],
            "image/png": "[encoded data removed]"
          },
          "metadata": {}
        },
        {
          "output_type": "stream",
          "name": "stdout",
          "text": [
            "Predicted class: bird\n",
            "Probability: 0.8240367770195007\n"
          ]
        }
      ]
    },
    {
      "cell_type": "code",
      "source": [],
      "metadata": {
        "id": "oxIO60pBCVYu"
      },
      "execution_count": null,
      "outputs": []
    }
  ]
}